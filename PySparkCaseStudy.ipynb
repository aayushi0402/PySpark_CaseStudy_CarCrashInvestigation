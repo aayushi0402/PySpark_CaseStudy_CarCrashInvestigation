{
  "nbformat": 4,
  "nbformat_minor": 0,
  "metadata": {
    "colab": {
      "provenance": []
    },
    "kernelspec": {
      "name": "python3",
      "display_name": "Python 3"
    },
    "language_info": {
      "name": "python"
    }
  },
  "cells": [
    {
      "cell_type": "markdown",
      "source": [
        "## Installing Required Libraries"
      ],
      "metadata": {
        "id": "RztEUGPSn7Ul"
      }
    },
    {
      "cell_type": "code",
      "execution_count": 1,
      "metadata": {
        "id": "2kzBORmonJNR"
      },
      "outputs": [],
      "source": [
        "\n",
        "# innstall java\n",
        "!apt-get install openjdk-8-jdk-headless -qq > /dev/null\n",
        "\n",
        "# install spark (change the version number if needed)\n",
        "!wget -q https://archive.apache.org/dist/spark/spark-3.0.0/spark-3.0.0-bin-hadoop3.2.tgz\n",
        "\n",
        "# unzip the spark file to the current folder\n",
        "!tar xf spark-3.0.0-bin-hadoop3.2.tgz\n",
        "\n",
        "# set your spark folder to your system path environment.\n",
        "import os\n",
        "os.environ[\"JAVA_HOME\"] = \"/usr/lib/jvm/java-8-openjdk-amd64\"\n",
        "os.environ[\"SPARK_HOME\"] = \"/content/spark-3.0.0-bin-hadoop3.2\"\n",
        "\n",
        "\n",
        "# install findspark using pip\n",
        "!pip install -q findspark"
      ]
    },
    {
      "cell_type": "code",
      "source": [
        "!pip install pyspark"
      ],
      "metadata": {
        "colab": {
          "base_uri": "https://localhost:8080/"
        },
        "id": "6z5HR_UmnPJm",
        "outputId": "ddb1b6b8-7811-494d-db05-e5c9ace5da7e"
      },
      "execution_count": 2,
      "outputs": [
        {
          "output_type": "stream",
          "name": "stdout",
          "text": [
            "Requirement already satisfied: pyspark in /usr/local/lib/python3.10/dist-packages (3.5.3)\n",
            "Requirement already satisfied: py4j==0.10.9.7 in /usr/local/lib/python3.10/dist-packages (from pyspark) (0.10.9.7)\n"
          ]
        }
      ]
    },
    {
      "cell_type": "code",
      "source": [
        "import findspark\n",
        "findspark.init()"
      ],
      "metadata": {
        "id": "gQHWHbgNnelb"
      },
      "execution_count": 3,
      "outputs": []
    },
    {
      "cell_type": "markdown",
      "source": [
        "## Starting Spark Session"
      ],
      "metadata": {
        "id": "xSyYNVbJoAru"
      }
    },
    {
      "cell_type": "code",
      "source": [
        "from pyspark.sql import SparkSession\n",
        "spark = SparkSession.builder\\\n",
        "        .master(\"local\")\\\n",
        "        .appName(\"CarCrashAnalysis\")\\\n",
        "        .config('spark.ui.port', '4050')\\\n",
        "        .getOrCreate()"
      ],
      "metadata": {
        "id": "FagSEvkfnncW"
      },
      "execution_count": 4,
      "outputs": []
    },
    {
      "cell_type": "code",
      "source": [
        "from zipfile import ZipFile"
      ],
      "metadata": {
        "id": "mlLiobnEnqrq"
      },
      "execution_count": 5,
      "outputs": []
    },
    {
      "cell_type": "code",
      "source": [
        "# loading the temp.zip and creating a zip object\n",
        "with ZipFile(\"Data.zip\", 'r') as zObject:\n",
        "\n",
        "\t# Extracting all the members of the zip\n",
        "\t# into a specific location.\n",
        "\tzObject.extractall(path=\"/Unzipped/\")"
      ],
      "metadata": {
        "id": "kOiEhxyynxWN"
      },
      "execution_count": 6,
      "outputs": []
    },
    {
      "cell_type": "markdown",
      "source": [
        "## Loading data into Data Frames"
      ],
      "metadata": {
        "id": "MtwzJXHaoDtx"
      }
    },
    {
      "cell_type": "code",
      "source": [
        "df_charges_use = spark.read.option(\"header\",True).csv(\"/Unzipped/Data/Charges_use.csv\")\n",
        "df_damages_use = spark.read.option(\"header\",True).csv(\"/Unzipped/Data/Damages_use.csv\")\n",
        "df_endorse_use = spark.read.option(\"header\",True).csv(\"/Unzipped/Data/Endorse_use.csv\")\n",
        "df_primary_person_use = spark.read.option(\"header\",True).csv(\"/Unzipped/Data/Primary_Person_use.csv\")\n",
        "df_restrict_use = spark.read.option(\"header\",True).csv(\"/Unzipped/Data/Restrict_use.csv\")\n",
        "df_units_use = spark.read.option(\"header\",True).csv(\"/Unzipped/Data/Units_use.csv\")"
      ],
      "metadata": {
        "id": "WkVHbRVDny_x"
      },
      "execution_count": 7,
      "outputs": []
    },
    {
      "cell_type": "markdown",
      "source": [
        "## Defining Reusable Functions"
      ],
      "metadata": {
        "id": "I3lw1afAoOEu"
      }
    },
    {
      "cell_type": "code",
      "source": [
        "\n",
        "def deduplicate_df(dup_df):\n",
        "  \"\"\"\n",
        "  De-duplicates a given dataframe\n",
        "  :param dup_df: The DataFrame to be de-duplicated\n",
        "  :return: De-duplicated dataframe\n",
        "  \"\"\"\n",
        "  df = dup_df.dropDuplicates()\n",
        "  return df\n",
        "\n",
        "def load_csv_data_to_df(spark, file_path):\n",
        "    \"\"\"\n",
        "    Read CSV data\n",
        "    :param spark: spark instance\n",
        "    :param file_path: path to the csv file\n",
        "    :return: dataframe\n",
        "    \"\"\"\n",
        "    return spark.read.option(\"inferSchema\", \"true\").csv(file_path, header=True)\n",
        "\n",
        "def extract_zipped_content(zipped_file_path, unzipped_files_path):\n",
        "  \"\"\"\n",
        "  Extracts all the files present within a zipped folder to another location\n",
        "  :param zipped_file_path: Location to the Zipped file\n",
        "  :param unzipped_files_path: Location to the Extracted files\n",
        "  \"\"\"\n",
        "  # loading the temp.zip and creating a zip object\n",
        "  with ZipFile(f\"{zipped_file_path}\", 'r') as zobject:\n",
        "\n",
        "\t# Extracting all the members of the zip\n",
        "\t# into a specific location.\n",
        "\t    zobject.extractall(path=f\"{unzipped_files_path}\")\n",
        "  print(\"Unzipping files successfully to : \",unzipped_files_path)\n",
        "\n"
      ],
      "metadata": {
        "id": "UCRaTq-an6FT"
      },
      "execution_count": 8,
      "outputs": []
    },
    {
      "cell_type": "code",
      "source": [
        "extract_zipped_content(\"/content/Data.zip\",\"/content/Unzipped/\")"
      ],
      "metadata": {
        "id": "ZaNoiwtjomwf",
        "colab": {
          "base_uri": "https://localhost:8080/"
        },
        "outputId": "5880ce73-da85-437a-c8ac-e2cad7b51c96"
      },
      "execution_count": 9,
      "outputs": [
        {
          "output_type": "stream",
          "name": "stdout",
          "text": [
            "Unzipping files successfully to :  /content/Unzipped/\n"
          ]
        }
      ]
    },
    {
      "cell_type": "code",
      "source": [
        "df_charges_use = df_charges_use.dropDuplicates()\n",
        "df_damages_use = df_damages_use.dropDuplicates()\n",
        "df_endorse_use = df_endorse_use.dropDuplicates()\n",
        "df_primary_person_use = df_primary_person_use.dropDuplicates()\n",
        "df_restrict_use = df_restrict_use.dropDuplicates()\n",
        "df_units_use = df_units_use.dropDuplicates()"
      ],
      "metadata": {
        "id": "zcXbsOXRoup7"
      },
      "execution_count": 10,
      "outputs": []
    },
    {
      "cell_type": "markdown",
      "source": [
        "## Seeing a glimpse of the data"
      ],
      "metadata": {
        "id": "ZiAorchko2wk"
      }
    },
    {
      "cell_type": "code",
      "source": [
        "df_charges_use.show(5,False)"
      ],
      "metadata": {
        "colab": {
          "base_uri": "https://localhost:8080/"
        },
        "id": "kd_f9ukhovOe",
        "outputId": "d6fb8924-044d-49e7-d851-1604893816de"
      },
      "execution_count": 11,
      "outputs": [
        {
          "output_type": "stream",
          "name": "stdout",
          "text": [
            "+--------+--------+--------+-------------------------------------+------------+\n",
            "|CRASH_ID|UNIT_NBR|PRSN_NBR|CHARGE                               |CITATION_NBR|\n",
            "+--------+--------+--------+-------------------------------------+------------+\n",
            "|14839048|1       |1       |EVADING IN  A VEHICLE                |2016-000008 |\n",
            "|14842539|1       |1       |FAILURE TO CONTROL SPEED (ACC)       |138474673   |\n",
            "|14845037|1       |1       |DRIVERS LICENSE RESTRICTION VIOLATION|M105252B    |\n",
            "|14845764|1       |1       |FAIL TO DRIVE IN SINGLE LANE         |008388006   |\n",
            "|14845973|1       |1       |NO DRIVER'S LICENSE WHEN UNLICENSED  |TX4IEN0FTMG3|\n",
            "+--------+--------+--------+-------------------------------------+------------+\n",
            "only showing top 5 rows\n",
            "\n"
          ]
        }
      ]
    },
    {
      "cell_type": "code",
      "source": [
        "df_damages_use.show(5,False)"
      ],
      "metadata": {
        "colab": {
          "base_uri": "https://localhost:8080/"
        },
        "id": "rBP2kzPbo-lU",
        "outputId": "5e08f6d4-dfaa-4e32-e934-c9d38105d1e2"
      },
      "execution_count": 12,
      "outputs": [
        {
          "output_type": "stream",
          "name": "stdout",
          "text": [
            "+--------+--------------------+\n",
            "|CRASH_ID|DAMAGED_PROPERTY    |\n",
            "+--------+--------------------+\n",
            "|14852553|CABLE BARRIER       |\n",
            "|14853703|LANDSCAPING         |\n",
            "|14862814|75 FT. OF GUARD RAIL|\n",
            "|14867689|CABLE LINES         |\n",
            "|14873013|LIGHT POLE          |\n",
            "+--------+--------------------+\n",
            "only showing top 5 rows\n",
            "\n"
          ]
        }
      ]
    },
    {
      "cell_type": "code",
      "source": [
        "df_endorse_use.show(5,False)"
      ],
      "metadata": {
        "colab": {
          "base_uri": "https://localhost:8080/"
        },
        "id": "PNKg5skVpAW7",
        "outputId": "36e9b774-bc5f-4d24-bc71-303d25ef7c0e"
      },
      "execution_count": 13,
      "outputs": [
        {
          "output_type": "stream",
          "name": "stdout",
          "text": [
            "+--------+--------+------------------+\n",
            "|CRASH_ID|UNIT_NBR|DRVR_LIC_ENDORS_ID|\n",
            "+--------+--------+------------------+\n",
            "|14842529|2       |NONE              |\n",
            "|14843083|1       |UNLICENSED        |\n",
            "|14844479|1       |UNLICENSED        |\n",
            "|14845535|1       |NONE              |\n",
            "|14846619|2       |NONE              |\n",
            "+--------+--------+------------------+\n",
            "only showing top 5 rows\n",
            "\n"
          ]
        }
      ]
    },
    {
      "cell_type": "code",
      "source": [
        "df_primary_person_use.show(5,False)"
      ],
      "metadata": {
        "colab": {
          "base_uri": "https://localhost:8080/"
        },
        "id": "RmqyPiglpBXy",
        "outputId": "b1ee453b-8ad7-4647-cd2e-844de8adce25"
      },
      "execution_count": 14,
      "outputs": [
        {
          "output_type": "stream",
          "name": "stdout",
          "text": [
            "+--------+--------+--------+------------+------------------+---------------------+--------+-----------------+------------+------------+-------------------+---------------+--------------+-----------+---------------------+----------------+------------------+---------------------+----------------+-----------------+---------------+---------------+------------------+--------------+-------------+--------------+-------------+---------+----------------------+-----------------+---------------+--------+\n",
            "|CRASH_ID|UNIT_NBR|PRSN_NBR|PRSN_TYPE_ID|PRSN_OCCPNT_POS_ID|PRSN_INJRY_SEV_ID    |PRSN_AGE|PRSN_ETHNICITY_ID|PRSN_GNDR_ID|PRSN_EJCT_ID|PRSN_REST_ID       |PRSN_AIRBAG_ID |PRSN_HELMET_ID|PRSN_SOL_FL|PRSN_ALC_SPEC_TYPE_ID|PRSN_ALC_RSLT_ID|PRSN_BAC_TEST_RSLT|PRSN_DRG_SPEC_TYPE_ID|PRSN_DRG_RSLT_ID|DRVR_DRG_CAT_1_ID|PRSN_DEATH_TIME|INCAP_INJRY_CNT|NONINCAP_INJRY_CNT|POSS_INJRY_CNT|NON_INJRY_CNT|UNKN_INJRY_CNT|TOT_INJRY_CNT|DEATH_CNT|DRVR_LIC_TYPE_ID      |DRVR_LIC_STATE_ID|DRVR_LIC_CLS_ID|DRVR_ZIP|\n",
            "+--------+--------+--------+------------+------------------+---------------------+--------+-----------------+------------+------------+-------------------+---------------+--------------+-----------+---------------------+----------------+------------------+---------------------+----------------+-----------------+---------------+---------------+------------------+--------------+-------------+--------------+-------------+---------+----------------------+-----------------+---------------+--------+\n",
            "|14843420|2       |1       |DRIVER      |FRONT LEFT        |NOT INJURED          |32      |WHITE            |FEMALE      |NO          |SHOULDER & LAP BELT|NOT DEPLOYED   |NOT APPLICABLE|N          |NONE                 |NA              |NA                |NONE                 |NOT APPLICABLE  |NOT APPLICABLE   |null           |0              |0                 |0             |1            |0             |0            |0        |COMMERCIAL DRIVER LIC.|Texas            |CLASS B        |75071   |\n",
            "|14845104|1       |1       |DRIVER      |FRONT LEFT        |INCAPACITATING INJURY|19      |OTHER            |MALE        |NO          |SHOULDER & LAP BELT|DEPLOYED, FRONT|NOT APPLICABLE|N          |NONE                 |NA              |NA                |NONE                 |NOT APPLICABLE  |NOT APPLICABLE   |null           |1              |0                 |0             |0            |0             |1            |0        |DRIVER LICENSE        |Texas            |CLASS C        |78065   |\n",
            "|14845673|2       |1       |DRIVER      |FRONT LEFT        |NOT INJURED          |18      |WHITE            |FEMALE      |NO          |SHOULDER & LAP BELT|NOT DEPLOYED   |NOT APPLICABLE|N          |NONE                 |NA              |NA                |NONE                 |NOT APPLICABLE  |NOT APPLICABLE   |null           |0              |0                 |0             |1            |0             |0            |0        |DRIVER LICENSE        |Texas            |CLASS C        |78148   |\n",
            "|14851529|2       |1       |DRIVER      |FRONT LEFT        |NOT INJURED          |44      |HISPANIC         |FEMALE      |NO          |SHOULDER & LAP BELT|NOT DEPLOYED   |NOT APPLICABLE|N          |NONE                 |NA              |NA                |NONE                 |NOT APPLICABLE  |NOT APPLICABLE   |null           |0              |0                 |0             |1            |0             |0            |0        |DRIVER LICENSE        |Texas            |CLASS C        |77044   |\n",
            "|14854122|1       |1       |DRIVER      |FRONT LEFT        |NOT INJURED          |20      |BLACK            |FEMALE      |NO          |SHOULDER & LAP BELT|DEPLOYED, FRONT|NOT APPLICABLE|N          |NONE                 |NA              |NA                |NONE                 |NOT APPLICABLE  |NOT APPLICABLE   |null           |0              |0                 |0             |1            |0             |0            |0        |ID CARD               |Texas            |UNLICENSED     |76006   |\n",
            "+--------+--------+--------+------------+------------------+---------------------+--------+-----------------+------------+------------+-------------------+---------------+--------------+-----------+---------------------+----------------+------------------+---------------------+----------------+-----------------+---------------+---------------+------------------+--------------+-------------+--------------+-------------+---------+----------------------+-----------------+---------------+--------+\n",
            "only showing top 5 rows\n",
            "\n"
          ]
        }
      ]
    },
    {
      "cell_type": "code",
      "source": [
        "df_restrict_use.show(5,False)"
      ],
      "metadata": {
        "colab": {
          "base_uri": "https://localhost:8080/"
        },
        "id": "yyTTLOpdpFDQ",
        "outputId": "fdfef7b1-edbc-4dc1-b095-10da9fb8006f"
      },
      "execution_count": 15,
      "outputs": [
        {
          "output_type": "stream",
          "name": "stdout",
          "text": [
            "+--------+--------+----------------------------------+\n",
            "|CRASH_ID|UNIT_NBR|DRVR_LIC_RESTRIC_ID               |\n",
            "+--------+--------+----------------------------------+\n",
            "|14839097|3       |WITH CORRECTIVE LENSES            |\n",
            "|14840787|1       |TRC 545.424 APPLIES UNTIL MM/DD/YY|\n",
            "|14842529|2       |NONE                              |\n",
            "|14843083|1       |UNLICENSED                        |\n",
            "|14844479|1       |UNLICENSED                        |\n",
            "+--------+--------+----------------------------------+\n",
            "only showing top 5 rows\n",
            "\n"
          ]
        }
      ]
    },
    {
      "cell_type": "code",
      "source": [
        "df_units_use.show(5,False)"
      ],
      "metadata": {
        "colab": {
          "base_uri": "https://localhost:8080/"
        },
        "id": "BpCxlnctpHIk",
        "outputId": "85f7fee9-ed4a-4c8a-d2ee-05234d5a2661"
      },
      "execution_count": 16,
      "outputs": [
        {
          "output_type": "stream",
          "name": "stdout",
          "text": [
            "+--------+--------+-------------+-------------+----------+----------------+-----------------+------------+------------+-----------+----------+---------------------+---------------+--------+-----------------+----------------------------+-----------------------------------------+-----------------+--------------+----------------------------------------+-----------------+--------------+------------------+-----------------+--------------------------+----------------------------+----------------------+-------------------+---------------+---------------------+---------------+------------------+--------------+-------------+--------------+-------------+---------+\n",
            "|CRASH_ID|UNIT_NBR|UNIT_DESC_ID |VEH_PARKED_FL|VEH_HNR_FL|VEH_LIC_STATE_ID|VIN              |VEH_MOD_YEAR|VEH_COLOR_ID|VEH_MAKE_ID|VEH_MOD_ID|VEH_BODY_STYL_ID     |EMER_RESPNDR_FL|OWNR_ZIP|FIN_RESP_PROOF_ID|FIN_RESP_TYPE_ID            |VEH_DMAG_AREA_1_ID                       |VEH_DMAG_SCL_1_ID|FORCE_DIR_1_ID|VEH_DMAG_AREA_2_ID                      |VEH_DMAG_SCL_2_ID|FORCE_DIR_2_ID|VEH_INVENTORIED_FL|VEH_TRANSP_NAME  |VEH_TRANSP_DEST           |CONTRIB_FACTR_1_ID          |CONTRIB_FACTR_2_ID    |CONTRIB_FACTR_P1_ID|VEH_TRVL_DIR_ID|FIRST_HARM_EVT_INV_ID|INCAP_INJRY_CNT|NONINCAP_INJRY_CNT|POSS_INJRY_CNT|NON_INJRY_CNT|UNKN_INJRY_CNT|TOT_INJRY_CNT|DEATH_CNT|\n",
            "+--------+--------+-------------+-------------+----------+----------------+-----------------+------------+------------+-----------+----------+---------------------+---------------+--------+-----------------+----------------------------+-----------------------------------------+-----------------+--------------+----------------------------------------+-----------------+--------------+------------------+-----------------+--------------------------+----------------------------+----------------------+-------------------+---------------+---------------------+---------------+------------------+--------------+-------------+--------------+-------------+---------+\n",
            "|14840049|1       |MOTOR VEHICLE|N            |N         |TX              |WVWPD63B33P045318|2003        |BLU         |VOLKSWAGEN |PASSAT    |PASSENGER CAR, 4-DOOR|N              |75217   |2                |NA                          |RIGHT FRONT QUARTER DAMAGE ANGULAR IMPACT|DAMAGED 2        |2             |RIGHT BACK QUARTER DAMAGE ANGULAR IMPACT|DAMAGED 2        |4             |Y                 |CONTRACT WRECKER |1955 VILBIG, DALLAS, TEXAS|DISREGARD STOP AND GO SIGNAL|UNDER INFLUENCE - DRUG|HAD BEEN DRINKING  |NORTH          |Y                    |1              |0                 |0             |0            |0             |1            |0        |\n",
            "|14840432|2       |MOTOR VEHICLE|Y            |N         |TX              |2HGES26862H501631|2002        |MAR         |HONDA      |CIVIC     |PASSENGER CAR, 4-DOOR|N              |77089   |1                |LIABILITY INSURANCE POLICY  |LEFT FRONT QUARTER DAMAGE ANGULAR IMPACT |DAMAGED 3        |9             |NA                                      |NA               |NA            |N                 |CHALLENGER TOWING|8000 GALVESTON RD         |NONE                        |NA                    |NA                 |NORTH          |Y                    |0              |0                 |0             |0            |0             |0            |0        |\n",
            "|14845208|2       |MOTOR VEHICLE|N            |N         |AZ              |1GDGG31C481910742|NA          |ONG         |GMC        |UNKNOWN   |TRUCK                |N              |85036   |1                |PROOF OF LIABILITY INSURANCE|LEFT FRONT QUARTER DAMAGE ANGULAR IMPACT |DAMAGED 2        |9             |NA                                      |NA               |NA            |N                 |DRIVER           |DRIVEN AWAY               |NONE                        |NA                    |NA                 |SOUTH          |Y                    |0              |0                 |0             |3            |0             |0            |0        |\n",
            "|14847652|1       |MOTOR VEHICLE|N            |N         |TX              |1GCEK19B96Z176950|2006        |BGE         |CHEVROLET  |SILVERADO |PICKUP               |N              |76088   |1                |PROOF OF LIABILITY INSURANCE|LEFT SIDE DAMAGE ANGULAR IMPACT          |DAMAGED 1 MINIMUM|9             |NA                                      |NA               |NA            |N                 |null             |null                      |TURNED WHEN UNSAFE          |NA                    |NA                 |NORTH          |Y                    |0              |0                 |0             |1            |0             |0            |0        |\n",
            "|14848872|2       |MOTOR VEHICLE|N            |N         |TX              |1FDWW36S63EB30029|2003        |WHI         |FORD       |F350      |PICKUP               |N              |78744   |4                |NA                          |FRONT END (LEFT) DAMAGE PARTIAL CONTACT  |DAMAGED 2        |12            |NA                                      |NA               |NA            |N                 |NOT TOWED        |NOT TOWED                 |NONE                        |NA                    |NA                 |SOUTH          |Y                    |0              |0                 |0             |2            |0             |0            |0        |\n",
            "+--------+--------+-------------+-------------+----------+----------------+-----------------+------------+------------+-----------+----------+---------------------+---------------+--------+-----------------+----------------------------+-----------------------------------------+-----------------+--------------+----------------------------------------+-----------------+--------------+------------------+-----------------+--------------------------+----------------------------+----------------------+-------------------+---------------+---------------------+---------------+------------------+--------------+-------------+--------------+-------------+---------+\n",
            "only showing top 5 rows\n",
            "\n"
          ]
        }
      ]
    },
    {
      "cell_type": "code",
      "source": [
        "from pyspark.sql.functions import *"
      ],
      "metadata": {
        "id": "0dGeBhYa2zFp"
      },
      "execution_count": 17,
      "outputs": []
    },
    {
      "cell_type": "markdown",
      "source": [
        "## Analytics 1: Find the number of crashes (accidents) in which number of males killed are greater than 2?"
      ],
      "metadata": {
        "id": "yaAXtUq7pmFL"
      }
    },
    {
      "source": [
        "male_deaths_greater_than_2_df = df_primary_person_use.filter('PRSN_GNDR_ID == \"MALE\" and DEATH_CNT==1').select([\"CRASH_ID\"]).groupBy(\"CRASH_ID\").agg(count(\"*\").alias(\"count\")).orderBy(desc(\"count\")).filter(\"count > 2\").count()\n",
        "print(\"Number of crashes (accidents) in which number of males killed are greater than 2:\",male_deaths_greater_than_2_df)"
      ],
      "cell_type": "code",
      "metadata": {
        "colab": {
          "base_uri": "https://localhost:8080/"
        },
        "id": "oz8ISegOse2E",
        "outputId": "6a9f3a9a-c82f-4002-e037-9004242b6eb3"
      },
      "execution_count": 18,
      "outputs": [
        {
          "output_type": "stream",
          "name": "stdout",
          "text": [
            "Number of crashes (accidents) in which number of males killed are greater than 2: 0\n"
          ]
        }
      ]
    },
    {
      "cell_type": "markdown",
      "source": [
        "## Analysis 2: How many two wheelers are booked for crashes?"
      ],
      "metadata": {
        "id": "1FNDLHqnxY_L"
      }
    },
    {
      "cell_type": "code",
      "source": [
        "two_wheelers_df = df_units_use.filter(df_units_use.VEH_BODY_STYL_ID.contains(\"MOTORCYCLE\")).dropDuplicates().count()"
      ],
      "metadata": {
        "id": "0x6hoZcvyIk1"
      },
      "execution_count": 19,
      "outputs": []
    },
    {
      "cell_type": "code",
      "source": [
        "print(\"Count of 2-Wheelers Booked for Crash:\",two_wheelers_df )"
      ],
      "metadata": {
        "colab": {
          "base_uri": "https://localhost:8080/"
        },
        "id": "FIYMEpIbyyXX",
        "outputId": "114e1e20-ee9c-4045-9271-695d0f054b6e"
      },
      "execution_count": 20,
      "outputs": [
        {
          "output_type": "stream",
          "name": "stdout",
          "text": [
            "Count of 2-Wheelers Booked for Crash: 773\n"
          ]
        }
      ]
    },
    {
      "cell_type": "markdown",
      "source": [
        "## Analysis 3: Determine the Top 5 Vehicle Makes of the cars present in the crashes in which driver died and Airbags did not deploy."
      ],
      "metadata": {
        "id": "DrTCnfjU0ClX"
      }
    },
    {
      "cell_type": "code",
      "source": [
        "driver_death_airbag_not_deployed_df = df_primary_person_use.filter((col('DEATH_CNT') == 1) &\n",
        "            (col('PRSN_AIRBAG_ID').isin('NOT DEPLOYED')) &\n",
        "                             col('PRSN_TYPE_ID').isin('DRIVER')) \\\n",
        "    .select('CRASH_ID','PRSN_AIRBAG_ID','PRSN_TYPE_ID') \\\n",
        "    .distinct()\n",
        "vehicle_make_df = df_units_use.select('CRASH_ID','VEH_MAKE_ID') \\\n",
        "    .distinct()\n",
        "\n",
        "top_5_vehicle_makes_with_death_and_no_airbag_df = driver_death_airbag_not_deployed_df.join(vehicle_make_df, on=['CRASH_ID'], how='inner').groupBy('VEH_MAKE_ID').count().orderBy(desc('count')).select(['VEH_MAKE_ID']).limit(5)\n",
        "top_5_vehicle_makes_with_death_and_no_airbag_df.show()"
      ],
      "metadata": {
        "colab": {
          "base_uri": "https://localhost:8080/"
        },
        "id": "MYILN_jCzW43",
        "outputId": "9d08482f-4468-406e-8715-8092cb9bc4ca"
      },
      "execution_count": 37,
      "outputs": [
        {
          "output_type": "stream",
          "name": "stdout",
          "text": [
            "+-----------+\n",
            "|VEH_MAKE_ID|\n",
            "+-----------+\n",
            "|  CHEVROLET|\n",
            "|       FORD|\n",
            "|         NA|\n",
            "|      DODGE|\n",
            "|     NISSAN|\n",
            "+-----------+\n",
            "\n"
          ]
        }
      ]
    },
    {
      "cell_type": "markdown",
      "source": [
        "## Analysis 4: Determine number of Vehicles with driver having valid licences involved in hit and run?"
      ],
      "metadata": {
        "id": "7xKOl88z48sF"
      }
    },
    {
      "cell_type": "code",
      "source": [
        "driver_details_df = df_primary_person_use.select(['CRASH_ID', 'DRVR_LIC_TYPE_ID']).filter((~col('DRVR_LIC_TYPE_ID').isin('NA','UNKNOWN','UNLICENSED')) & (col('PRSN_TYPE_ID').isin('DRIVER'))).distinct()\n",
        "charges_details_df = df_charges_use.select(['CRASH_ID', 'CHARGE']).filter(upper(col('CHARGE')).contains('HIT AND RUN')).distinct()\n",
        "\n",
        "print('Number of Vehicles with driver having valid licences involved in hit and run:', driver_details_df.join(charges_details_df, on=['CRASH_ID'], how='inner').count())"
      ],
      "metadata": {
        "colab": {
          "base_uri": "https://localhost:8080/"
        },
        "id": "W4n_Xeig1Y2a",
        "outputId": "0a22afa7-d05f-4c13-92de-efac11741756"
      },
      "execution_count": 22,
      "outputs": [
        {
          "output_type": "stream",
          "name": "stdout",
          "text": [
            "Number of Vehicles with driver having valid licences involved in hit and run: 49\n"
          ]
        }
      ]
    },
    {
      "cell_type": "markdown",
      "source": [
        " ## Analysis 5: Which state has highest number of accidents in which females are not involved"
      ],
      "metadata": {
        "id": "1FdXTS15FcYh"
      }
    },
    {
      "cell_type": "code",
      "source": [
        "print('State has highest number of accidents in which females are not involved:', df_primary_person_use.select('DRVR_LIC_STATE_ID','PRSN_GNDR_ID').filter(~col('PRSN_GNDR_ID').isin('FEMALE')).groupBy('DRVR_LIC_STATE_ID').count().orderBy(desc('count')).select('DRVR_LIC_STATE_ID').limit(1).collect()[0][0])"
      ],
      "metadata": {
        "colab": {
          "base_uri": "https://localhost:8080/"
        },
        "id": "GZKylDhUEJ76",
        "outputId": "adaad169-cfff-44dc-a907-5d8e5b317870"
      },
      "execution_count": 38,
      "outputs": [
        {
          "output_type": "stream",
          "name": "stdout",
          "text": [
            "State has highest number of accidents in which females are not involved: Texas\n"
          ]
        }
      ]
    },
    {
      "cell_type": "markdown",
      "source": [
        "## Analysis 6: Which are the Top 3rd to 5th VEH_MAKE_IDs that contribute to a largest number of injuries including death"
      ],
      "metadata": {
        "id": "9fMJjf-bHgnJ"
      }
    },
    {
      "cell_type": "code",
      "source": [
        "casualties_df = df_units_use.filter(df_units_use.VEH_MAKE_ID != \"NA\"). \\\n",
        "            withColumn('TOT_CASUALTIES_CNT', df_units_use[35] + df_units_use[36]). \\\n",
        "            groupby(\"VEH_MAKE_ID\").sum(\"TOT_CASUALTIES_CNT\"). \\\n",
        "            withColumnRenamed(\"sum(TOT_CASUALTIES_CNT)\", \"TOT_CASUALTIES\"). \\\n",
        "            orderBy(col(\"TOT_CASUALTIES\").desc())\n",
        "df_top_casualties = casualties_df.limit(5).subtract(casualties_df.limit(2))\n",
        "df_top_casualties.show()"
      ],
      "metadata": {
        "colab": {
          "base_uri": "https://localhost:8080/"
        },
        "id": "-8Jpj3JrF-EE",
        "outputId": "00702d82-b5c8-4e6b-aab8-cdf34b2b097f"
      },
      "execution_count": 40,
      "outputs": [
        {
          "output_type": "stream",
          "name": "stdout",
          "text": [
            "+-----------+--------------+\n",
            "|VEH_MAKE_ID|TOT_CASUALTIES|\n",
            "+-----------+--------------+\n",
            "|     TOYOTA|        4227.0|\n",
            "|      DODGE|        3138.0|\n",
            "|     NISSAN|        3114.0|\n",
            "+-----------+--------------+\n",
            "\n"
          ]
        }
      ]
    },
    {
      "cell_type": "markdown",
      "source": [
        "##  Analysis 7: For all the body styles involved in crashes, mention the top ethnic user group of each unique body style"
      ],
      "metadata": {
        "id": "FMkpDZJOIlOJ"
      }
    },
    {
      "cell_type": "code",
      "source": [
        "from pyspark.sql.window import Window\n",
        "joined_eth_style = df_primary_person_use.join(df_units_use,df_primary_person_use.CRASH_ID ==  df_units_use.CRASH_ID,\"inner\")\n",
        "joined_eth_style. \\\n",
        "filter((~joined_eth_style.VEH_BODY_STYL_ID.isin([\"NA\", \"UNKNOWN\", \"NOT REPORTED\",\"OTHER  (EXPLAIN IN NARRATIVE)\"])) & (~joined_eth_style.PRSN_ETHNICITY_ID.isin([\"NA\",\"UNKNOWN\"]))). \\\n",
        "groupBy(\"VEH_BODY_STYL_ID\",\"PRSN_ETHNICITY_ID\").count(). \\\n",
        "withColumn(\"row_number\", row_number().over(Window.partitionBy(\"VEH_BODY_STYL_ID\"). \\\n",
        "                                             orderBy(col(\"VEH_BODY_STYL_ID\").desc(),col(\"count\").desc()))). \\\n",
        "                                             filter(col(\"row_number\")==1). \\\n",
        "                                             orderBy(col(\"count\").desc()). \\\n",
        "                                             drop(\"row_number\", \"count\")\n",
        "joined_eth_style.filter(joined_eth_style.VEH_BODY_STYL_ID == \"POLICE MOTORCYCLE\").groupBy(\"PRSN_ETHNICITY_ID\").count().show()"
      ],
      "metadata": {
        "colab": {
          "base_uri": "https://localhost:8080/"
        },
        "id": "SM7b0NjVHnCK",
        "outputId": "0e986e97-9f28-4778-8eb4-5e1c783d2231"
      },
      "execution_count": 25,
      "outputs": [
        {
          "output_type": "stream",
          "name": "stdout",
          "text": [
            "+-----------------+-----+\n",
            "|PRSN_ETHNICITY_ID|count|\n",
            "+-----------------+-----+\n",
            "|            WHITE|    2|\n",
            "|            BLACK|    1|\n",
            "|         HISPANIC|    3|\n",
            "+-----------------+-----+\n",
            "\n"
          ]
        }
      ]
    },
    {
      "cell_type": "markdown",
      "source": [
        "## Analysis 8: Among the crashed cars, what are the Top 5 Zip Codes with highest number crashes with alcohols as the contributing factor to a crash (Use Driver Zip Code)"
      ],
      "metadata": {
        "id": "lzr8xjuTuV3k"
      }
    },
    {
      "cell_type": "code",
      "source": [
        "df_units_use.join(df_primary_person_use, on=['CRASH_ID'], how='inner'). \\\n",
        "            dropna(subset=[\"DRVR_ZIP\"]). \\\n",
        "            filter(col(\"CONTRIB_FACTR_1_ID\").contains(\"ALCOHOL\") | col(\"CONTRIB_FACTR_2_ID\").contains(\"ALCOHOL\")). \\\n",
        "            groupby(\"DRVR_ZIP\").count().orderBy(col(\"count\").desc()).show(5)"
      ],
      "metadata": {
        "colab": {
          "base_uri": "https://localhost:8080/"
        },
        "id": "le8Yd5HNukrn",
        "outputId": "b1962f18-a71f-48bb-b13f-55c7d57548cd"
      },
      "execution_count": 26,
      "outputs": [
        {
          "output_type": "stream",
          "name": "stdout",
          "text": [
            "+--------+-----+\n",
            "|DRVR_ZIP|count|\n",
            "+--------+-----+\n",
            "|   76010|   75|\n",
            "|   78521|   61|\n",
            "|   75067|   54|\n",
            "|   78574|   47|\n",
            "|   75052|   43|\n",
            "+--------+-----+\n",
            "only showing top 5 rows\n",
            "\n"
          ]
        }
      ]
    },
    {
      "cell_type": "markdown",
      "source": [
        "## Analysis 9: Count of Distinct Crash IDs where No Damaged Property was observed and Damage Level (VEH_DMAG_SCL~) is above 4 and car avails Insurance\n"
      ],
      "metadata": {
        "id": "InfjcrqSubdd"
      }
    },
    {
      "cell_type": "code",
      "source": [
        "insured_no_dmg_property = df_units_use.join(df_damages_use, on=['CRASH_ID'], how='inner'). \\\n",
        "filter((col(\"DAMAGED_PROPERTY\").rlike(\"NO DAMAGE\")) | (col(\"DAMAGED_PROPERTY\").rlike(\"NONE\"))). \\\n",
        "filter((col(\"VEH_DMAG_SCL_1_ID\").rlike(\"[5-9]\")) | (col(\"VEH_DMAG_SCL_2_ID\").rlike(\"[5-9]\"))). \\\n",
        "filter((col(\"FIN_RESP_TYPE_ID\") == \"PROOF OF LIABILITY INSURANCE\") | (col(\"FIN_RESP_TYPE_ID\") == \"INSURANCE BINDER\") | (col(\"FIN_RESP_TYPE_ID\") == \"LIABILITY INSURANCE POLICY\"))"
      ],
      "metadata": {
        "id": "vRpW-O8SuxkC"
      },
      "execution_count": 27,
      "outputs": []
    },
    {
      "cell_type": "code",
      "source": [
        "dmg_df = df_units_use.join(df_damages_use, on=['CRASH_ID'], how='inner'). \\\n",
        "filter((col(\"DAMAGED_PROPERTY\").rlike(\"NO DAMAGE\")) | (col(\"DAMAGED_PROPERTY\").rlike(\"NONE\")))"
      ],
      "metadata": {
        "colab": {
          "base_uri": "https://localhost:8080/",
          "height": 159
        },
        "id": "25jx0N5cwgP9",
        "outputId": "f579ff33-9fed-40d0-b9cd-361c7778ed0f"
      },
      "execution_count": 28,
      "outputs": [
        {
          "output_type": "error",
          "ename": "NameError",
          "evalue": "name 'F' is not defined",
          "traceback": [
            "\u001b[0;31m---------------------------------------------------------------------------\u001b[0m",
            "\u001b[0;31mNameError\u001b[0m                                 Traceback (most recent call last)",
            "\u001b[0;32m<ipython-input-28-0925b3c97040>\u001b[0m in \u001b[0;36m<cell line: 1>\u001b[0;34m()\u001b[0m\n\u001b[1;32m      1\u001b[0m \u001b[0mdmg_df\u001b[0m \u001b[0;34m=\u001b[0m \u001b[0mdf_units_use\u001b[0m\u001b[0;34m.\u001b[0m\u001b[0mjoin\u001b[0m\u001b[0;34m(\u001b[0m\u001b[0mdf_damages_use\u001b[0m\u001b[0;34m,\u001b[0m \u001b[0mon\u001b[0m\u001b[0;34m=\u001b[0m\u001b[0;34m[\u001b[0m\u001b[0;34m'CRASH_ID'\u001b[0m\u001b[0;34m]\u001b[0m\u001b[0;34m,\u001b[0m \u001b[0mhow\u001b[0m\u001b[0;34m=\u001b[0m\u001b[0;34m'inner'\u001b[0m\u001b[0;34m)\u001b[0m\u001b[0;34m.\u001b[0m\u001b[0;31m \u001b[0m\u001b[0;31m\\\u001b[0m\u001b[0;34m\u001b[0m\u001b[0;34m\u001b[0m\u001b[0m\n\u001b[0;32m----> 2\u001b[0;31m \u001b[0mfilter\u001b[0m\u001b[0;34m(\u001b[0m\u001b[0;34m(\u001b[0m\u001b[0mF\u001b[0m\u001b[0;34m.\u001b[0m\u001b[0mcol\u001b[0m\u001b[0;34m(\u001b[0m\u001b[0;34m\"DAMAGED_PROPERTY\"\u001b[0m\u001b[0;34m)\u001b[0m\u001b[0;34m.\u001b[0m\u001b[0mrlike\u001b[0m\u001b[0;34m(\u001b[0m\u001b[0;34m\"NO DAMAGE\"\u001b[0m\u001b[0;34m)\u001b[0m\u001b[0;34m)\u001b[0m \u001b[0;34m|\u001b[0m \u001b[0;34m(\u001b[0m\u001b[0mF\u001b[0m\u001b[0;34m.\u001b[0m\u001b[0mcol\u001b[0m\u001b[0;34m(\u001b[0m\u001b[0;34m\"DAMAGED_PROPERTY\"\u001b[0m\u001b[0;34m)\u001b[0m\u001b[0;34m.\u001b[0m\u001b[0mrlike\u001b[0m\u001b[0;34m(\u001b[0m\u001b[0;34m\"NONE\"\u001b[0m\u001b[0;34m)\u001b[0m\u001b[0;34m)\u001b[0m\u001b[0;34m)\u001b[0m\u001b[0;34m\u001b[0m\u001b[0;34m\u001b[0m\u001b[0m\n\u001b[0m",
            "\u001b[0;31mNameError\u001b[0m: name 'F' is not defined"
          ]
        }
      ]
    },
    {
      "cell_type": "markdown",
      "source": [
        "## Analysis 10: Determine the Top 5 Vehicle Makes where drivers are charged with speeding related offences, has licensed Drivers, used top 10 used vehicle colours and has car licensed with the Top 25 states with highest number of offences (to be deduced from the data)"
      ],
      "metadata": {
        "id": "WgfIkWhDuswx"
      }
    },
    {
      "cell_type": "code",
      "source": [
        "top_25_states = [row[0] for row in df_units_use.filter(col(\"VEH_LIC_STATE_ID\").cast(\"int\").isNull()).\n",
        "            groupby(\"VEH_LIC_STATE_ID\").count().orderBy(col(\"count\").desc()).limit(25).collect()]\n",
        "top_10_used_vcolors = [row[0] for row in df_units_use.filter(df_units_use.VEH_COLOR_ID != \"NA\").\n",
        "            groupby(\"VEH_COLOR_ID\").count().orderBy(col(\"count\").desc()).limit(10).collect()]\n",
        "top_5_veh_makes = df_charges_use.join(df_primary_person_use, on=['CRASH_ID'], how='inner'). \\\n",
        "            join(df_units_use, on=['CRASH_ID'], how='inner'). \\\n",
        "            filter(df_charges_use.CHARGE.contains(\"SPEED\")). \\\n",
        "            filter(df_primary_person_use.DRVR_LIC_TYPE_ID.isin([\"DRIVER LICENSE\", \"COMMERCIAL DRIVER LIC.\"])). \\\n",
        "            filter(df_units_use.VEH_COLOR_ID.isin(top_10_used_vcolors)). \\\n",
        "            filter(df_units_use.VEH_LIC_STATE_ID.isin(top_25_states)). \\\n",
        "            groupby(\"VEH_MAKE_ID\").count(). \\\n",
        "            orderBy(col(\"count\").desc()).limit(5)\n",
        "list_veh = \"\"\n",
        "for i in  top_5_veh_makes.select('VEH_MAKE_ID').rdd.flatMap(lambda x: x).collect():\n",
        "  list_veh += i + \", \"\n",
        "list_veh.strip(\", \")\n",
        "print(\"Top 5 Vehicle Makes where drivers are charged with speeding related offences, has licensed Drivers, uses top 10 used vehicle colours and has car licensed with the Top 25 states with highest number of offences  are:\",list_veh.strip(\", \"))"
      ],
      "metadata": {
        "id": "GR8leMOBJR-d"
      },
      "execution_count": null,
      "outputs": []
    },
    {
      "cell_type": "code",
      "source": [],
      "metadata": {
        "id": "5EG6zSxevKzs"
      },
      "execution_count": null,
      "outputs": []
    }
  ]
}